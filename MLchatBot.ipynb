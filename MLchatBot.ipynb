{
 "cells": [
  {
   "cell_type": "code",
   "execution_count": 1,
   "metadata": {},
   "outputs": [
    {
     "name": "stdout",
     "output_type": "stream",
     "text": [
      "Requirement already satisfied: nltk in c:\\users\\seb\\miniconda3\\lib\\site-packages (3.5)\n",
      "Requirement already satisfied: tqdm in c:\\users\\seb\\miniconda3\\lib\\site-packages (from nltk) (4.51.0)\n",
      "Requirement already satisfied: joblib in c:\\users\\seb\\miniconda3\\lib\\site-packages (from nltk) (1.0.1)\n",
      "Requirement already satisfied: regex in c:\\users\\seb\\miniconda3\\lib\\site-packages (from nltk) (2020.11.13)\n",
      "Requirement already satisfied: click in c:\\users\\seb\\miniconda3\\lib\\site-packages (from nltk) (7.1.2)\n",
      "Note: you may need to restart the kernel to use updated packages.\n"
     ]
    }
   ],
   "source": [
    "#installing libraries\n",
    "pip install nltk"
   ]
  },
  {
   "cell_type": "code",
   "execution_count": null,
   "metadata": {},
   "outputs": [],
   "source": [
    "pip install newspaper3k"
   ]
  },
  {
   "cell_type": "code",
   "execution_count": 7,
   "metadata": {},
   "outputs": [
    {
     "name": "stdout",
     "output_type": "stream",
     "text": [
      "Collecting scikit-learn\n",
      "  Downloading scikit_learn-0.24.1-cp38-cp38-win_amd64.whl (6.9 MB)\n",
      "Requirement already satisfied, skipping upgrade: joblib>=0.11 in c:\\users\\seb\\miniconda3\\lib\\site-packages (from scikit-learn) (1.0.1)\n",
      "Collecting threadpoolctl>=2.0.0\n",
      "  Downloading threadpoolctl-2.1.0-py3-none-any.whl (12 kB)\n",
      "Collecting scipy>=0.19.1\n",
      "  Downloading scipy-1.6.1-cp38-cp38-win_amd64.whl (32.7 MB)\n",
      "Requirement already satisfied, skipping upgrade: numpy>=1.13.3 in c:\\users\\seb\\miniconda3\\lib\\site-packages (from scikit-learn) (1.19.5)\n",
      "Installing collected packages: threadpoolctl, scipy, scikit-learn\n",
      "Successfully installed scikit-learn-0.24.1 scipy-1.6.1 threadpoolctl-2.1.0\n",
      "Note: you may need to restart the kernel to use updated packages.\n"
     ]
    }
   ],
   "source": [
    "pip install -U scikit-learn"
   ]
  },
  {
   "cell_type": "code",
   "execution_count": 6,
   "metadata": {},
   "outputs": [
    {
     "data": {
      "text/plain": [
       "True"
      ]
     },
     "execution_count": 6,
     "metadata": {},
     "output_type": "execute_result"
    }
   ],
   "source": [
    "#Import libraries\n",
    "from newspaper import Article\n",
    "import random\n",
    "import string\n",
    "import nltk\n",
    "from sklearn.feature_extraction.text import CountVectorizer\n",
    "from sklearn.metrics.pairwise import cosine_similarity\n",
    "import numpy as np\n",
    "import warnings\n",
    "warnings.filterwarnings('ignore')\n",
    "\n",
    "#Download the punkt package\n",
    "nltk.download('punkt', quiet = True)"
   ]
  },
  {
   "cell_type": "code",
   "execution_count": 19,
   "metadata": {},
   "outputs": [],
   "source": [
    "#Get the article\n",
    "file = open('anxiety.txt', 'r', encoding='utf-8')\n",
    "text = file.read()\n",
    "file.close()\n"
   ]
  },
  {
   "cell_type": "code",
   "execution_count": 20,
   "metadata": {},
   "outputs": [
    {
     "name": "stdout",
     "output_type": "stream",
     "text": [
      "A lot of your anxiety would be absolutely normal anxiety anyone might have in the same situation. The thing to keep remembering – again and again and again is this – you will get better with time and the realization that others care about you. You are not alone. I’m here to listen, tell me what’s  on your mind. Can you ever in your lifetime remember a news report where the reporter said – “Man found scared to death”? It just doesn’t happen – severe anxiety or stress may be problematic for someone with a severe health problem – we all have to accept that All of this that you’re feelings is very normal. Keep in mind that fight or flight is not like a disease – it is a perfectly normal physical response – just in your case it is being triggered through fear cycles – but it’s not ‘against’ the body – in fact it’s trying to PROTECT the body I know how you feel and you just have to realize it’s your body going into fight or flight that’s spiking your anxiety. You have maybe experienced this extreme anxiety a thousand times and what has happened apart from feeling terrified? Nothing – maybe some fatigue – some jitteriness – some low moods – but did anything really ‘dangerous’ ever happen – NO – and here you are :). You WILL keep making progress and I’m here to help you all the way through it! Healing occurs over time, it’s going to take a lot of effort but you will see yourself make significant progress. You are ok if you panic – you are ok if you don’t panic – it’s all just a mistaken belief that the feelings mean something more serious. It may take a while for this part to pass, but I assure you it will get better and you are not alone. Just have a day when you forget about work or school and go for complete distraction. That’s it!! Our minds need a lot of convincing and it will take some time for these feelings to subside. Remember, improving is like swimming – the first time you let go of the edge and swim two strokes doesn’t mean you instantly lose your fear of water and believe you will always float – it takes repeated practice – repeated sinking and floundering and finally floating and eventually swimming before you really believe you can do it! You are getting this trust me. Eventually you will complete lose the fear of panic and anxiety and be on your feet again feeling great.  It’s pretty hard to reassure you on this because the anxious mind is a hard beast to tame – but all I can say is that you WILL be free of this within weeks months or a year – not long to have anxiety considering some people have it for 40 YEARS and those people who HAVE had it for 40 years are still here.\n"
     ]
    }
   ],
   "source": [
    "#Print the articles\n",
    "print(text)"
   ]
  },
  {
   "cell_type": "code",
   "execution_count": 21,
   "metadata": {},
   "outputs": [],
   "source": [
    "#Tokenization\n",
    "sentence_list = nltk.sent_tokenize(text) # A list of sentences"
   ]
  },
  {
   "cell_type": "code",
   "execution_count": 33,
   "metadata": {},
   "outputs": [
    {
     "name": "stdout",
     "output_type": "stream",
     "text": [
      "['A lot of your anxiety would be absolutely normal anxiety anyone might have in the same situation.', 'The thing to keep remembering – again and again and again is this – you will get better with time and the realization that others care about you.', 'You are not alone.', 'I’m here to listen, tell me what’s  on your mind.', 'Can you ever in your lifetime remember a news report where the reporter said – “Man found scared to death”?', 'It just doesn’t happen – severe anxiety or stress may be problematic for someone with a severe health problem – we all have to accept that All of this that you’re feelings is very normal.', 'Keep in mind that fight or flight is not like a disease – it is a perfectly normal physical response – just in your case it is being triggered through fear cycles – but it’s not ‘against’ the body – in fact it’s trying to PROTECT the body I know how you feel and you just have to realize it’s your body going into fight or flight that’s spiking your anxiety.', 'You have maybe experienced this extreme anxiety a thousand times and what has happened apart from feeling terrified?', 'Nothing – maybe some fatigue – some jitteriness – some low moods – but did anything really ‘dangerous’ ever happen – NO – and here you are :).', 'You WILL keep making progress and I’m here to help you all the way through it!', 'Healing occurs over time, it’s going to take a lot of effort but you will see yourself make significant progress.', 'You are ok if you panic – you are ok if you don’t panic – it’s all just a mistaken belief that the feelings mean something more serious.', 'It may take a while for this part to pass, but I assure you it will get better and you are not alone.', 'Just have a day when you forget about work or school and go for complete distraction.', 'That’s it!!', 'Our minds need a lot of convincing and it will take some time for these feelings to subside.', 'Remember, improving is like swimming – the first time you let go of the edge and swim two strokes doesn’t mean you instantly lose your fear of water and believe you will always float – it takes repeated practice – repeated sinking and floundering and finally floating and eventually swimming before you really believe you can do it!', 'You are getting this trust me.', 'Eventually you will complete lose the fear of panic and anxiety and be on your feet again feeling great.', 'It’s pretty hard to reassure you on this because the anxious mind is a hard beast to tame – but all I can say is that you WILL be free of this within weeks months or a year – not long to have anxiety considering some people have it for 40 YEARS and those people who HAVE had it for 40 years are still here.']\n"
     ]
    }
   ],
   "source": [
    "print(sentence_list)"
   ]
  },
  {
   "cell_type": "code",
   "execution_count": 51,
   "metadata": {},
   "outputs": [],
   "source": [
    "# A function to return a random response to a user's greeting\n",
    "def greeting_response(text):\n",
    "    text = text.lower()\n",
    "    \n",
    "    #Bots greeting response\n",
    "    bot_greetings = ['hello','how are you doing?', 'hey there', 'hi', 'hey']\n",
    "    #User's greeting\n",
    "    user_greetings = ['hi', 'hello', 'hey','wassup',\"what's up\", 'greetings', 'hello','hola']\n",
    "    \n",
    "    for word in text.split():\n",
    "        if word in user_greetings:\n",
    "            return random.choice(bot_greetings)"
   ]
  },
  {
   "cell_type": "code",
   "execution_count": 52,
   "metadata": {},
   "outputs": [],
   "source": [
    "def index_sort(list_var):\n",
    "    length = len(list_var)\n",
    "    list_index = list(range(0,length))\n",
    "    x= list_var\n",
    "    for i in range(length):\n",
    "        for j in range(length):\n",
    "            if x[list_index[i]] > x[list_index[j]]:\n",
    "                #Swap\n",
    "                temp = list_index[i]\n",
    "                list_index[i] = list_index[j]\n",
    "                list_index[j] = temp\n",
    "    return list_index"
   ]
  },
  {
   "cell_type": "code",
   "execution_count": 55,
   "metadata": {},
   "outputs": [],
   "source": [
    "def bot_response(user_input):\n",
    "    user_input = user_input.lower()\n",
    "    sentence_list.append(user_input)\n",
    "    bot_response = ''\n",
    "    countMatrix = CountVectorizer().fit_transform(sentence_list)\n",
    "    similarity_scores = cosine_similarity(countMatrix[-1], countMatrix)\n",
    "    similarity_scores_list = similarity_scores.flatten()\n",
    "    index = index_sort(similarity_scores_list)\n",
    "    index = index[1:]\n",
    "    \n",
    "    if similarity_scores_list[index[0]] != 0.0:\n",
    "        sentence_list.remove(user_input)\n",
    "        return bot_response + ' ' + sentence_list[index[len(index)-1]]\n",
    "    else:\n",
    "        bot_response = bot_response + ' ' + \"I apologize, I don't understand\"\n",
    "    sentence_list.remove(user_input)\n",
    "    return bot_response"
   ]
  },
  {
   "cell_type": "code",
   "execution_count": null,
   "metadata": {},
   "outputs": [
    {
     "name": "stdout",
     "output_type": "stream",
     "text": [
      "Doc Bot: I am Doctor Bot or Doc Bot for short.Type bye to exit\n"
     ]
    },
    {
     "name": "stdin",
     "output_type": "stream",
     "text": [
      " hello\n"
     ]
    },
    {
     "name": "stdout",
     "output_type": "stream",
     "text": [
      "Doc Bot: how are you doing?\n"
     ]
    },
    {
     "name": "stdin",
     "output_type": "stream",
     "text": [
      " hi\n"
     ]
    },
    {
     "name": "stdout",
     "output_type": "stream",
     "text": [
      "Doc Bot: how are you doing?\n"
     ]
    },
    {
     "name": "stdin",
     "output_type": "stream",
     "text": [
      " hi\n"
     ]
    },
    {
     "name": "stdout",
     "output_type": "stream",
     "text": [
      "Doc Bot: hey there\n"
     ]
    },
    {
     "name": "stdin",
     "output_type": "stream",
     "text": [
      " hi\n"
     ]
    },
    {
     "name": "stdout",
     "output_type": "stream",
     "text": [
      "Doc Bot: hey\n"
     ]
    },
    {
     "name": "stdin",
     "output_type": "stream",
     "text": [
      " hi\n"
     ]
    },
    {
     "name": "stdout",
     "output_type": "stream",
     "text": [
      "Doc Bot: hey there\n"
     ]
    },
    {
     "name": "stdin",
     "output_type": "stream",
     "text": [
      " hi\n"
     ]
    },
    {
     "name": "stdout",
     "output_type": "stream",
     "text": [
      "Doc Bot: how are you doing?\n"
     ]
    },
    {
     "name": "stdin",
     "output_type": "stream",
     "text": [
      " hi\n"
     ]
    },
    {
     "name": "stdout",
     "output_type": "stream",
     "text": [
      "Doc Bot: hey there\n"
     ]
    },
    {
     "name": "stdin",
     "output_type": "stream",
     "text": [
      " hi\n"
     ]
    },
    {
     "name": "stdout",
     "output_type": "stream",
     "text": [
      "Doc Bot: hey there\n"
     ]
    },
    {
     "name": "stdin",
     "output_type": "stream",
     "text": [
      " you wanna get jumped?\n"
     ]
    },
    {
     "name": "stdout",
     "output_type": "stream",
     "text": [
      "Doc Bot:  A lot of your anxiety would be absolutely normal anxiety anyone might have in the same situation.\n"
     ]
    },
    {
     "name": "stdin",
     "output_type": "stream",
     "text": [
      " who says I have anxiety?\n"
     ]
    },
    {
     "name": "stdout",
     "output_type": "stream",
     "text": [
      "Doc Bot:  I’m here to listen, tell me what’s  on your mind.\n"
     ]
    },
    {
     "name": "stdin",
     "output_type": "stream",
     "text": [
      " Well the other day my penis enlarged 10 inches and I'm not sure where to go from here.\n"
     ]
    },
    {
     "name": "stdout",
     "output_type": "stream",
     "text": [
      "Doc Bot:  That’s it!!\n"
     ]
    },
    {
     "name": "stdin",
     "output_type": "stream",
     "text": [
      " Does this mean I'm getting better?\n"
     ]
    },
    {
     "name": "stdout",
     "output_type": "stream",
     "text": [
      "Doc Bot:  Nothing – maybe some fatigue – some jitteriness – some low moods – but did anything really ‘dangerous’ ever happen – NO – and here you are :).\n"
     ]
    },
    {
     "name": "stdin",
     "output_type": "stream",
     "text": [
      " Yeah I definitely feel the jitteriness from trucking this log between my legs around\n"
     ]
    },
    {
     "name": "stdout",
     "output_type": "stream",
     "text": [
      "Doc Bot:  That’s it!!\n"
     ]
    },
    {
     "name": "stdin",
     "output_type": "stream",
     "text": [
      " you're not very intelligent\n"
     ]
    },
    {
     "name": "stdout",
     "output_type": "stream",
     "text": [
      "Doc Bot:  A lot of your anxiety would be absolutely normal anxiety anyone might have in the same situation.\n"
     ]
    },
    {
     "name": "stdin",
     "output_type": "stream",
     "text": [
      " yeah you're getting jumped\n"
     ]
    },
    {
     "name": "stdout",
     "output_type": "stream",
     "text": [
      "Doc Bot:  A lot of your anxiety would be absolutely normal anxiety anyone might have in the same situation.\n"
     ]
    }
   ],
   "source": [
    "#Start the chat\n",
    "print('Doc Bot: I am Doctor Bot or Doc Bot for short.Type bye to exit')\n",
    "\n",
    "exit_list = ['exit','see you later','bye','quit','break']\n",
    "while(True):\n",
    "    user_input = input()\n",
    "    if user_input.lower() in exit_list:\n",
    "        print('Doc Bot: Chat with you later!')\n",
    "        break\n",
    "    else:\n",
    "        if greeting_response(user_input) != None:\n",
    "            print('Doc Bot: ' + greeting_response(user_input))\n",
    "        else:\n",
    "            print('Doc Bot: ' + bot_response(user_input))"
   ]
  },
  {
   "cell_type": "code",
   "execution_count": null,
   "metadata": {},
   "outputs": [],
   "source": []
  }
 ],
 "metadata": {
  "kernelspec": {
   "display_name": "Python 3",
   "language": "python",
   "name": "python3"
  },
  "language_info": {
   "codemirror_mode": {
    "name": "ipython",
    "version": 3
   },
   "file_extension": ".py",
   "mimetype": "text/x-python",
   "name": "python",
   "nbconvert_exporter": "python",
   "pygments_lexer": "ipython3",
   "version": "3.8.5"
  }
 },
 "nbformat": 4,
 "nbformat_minor": 5
}
