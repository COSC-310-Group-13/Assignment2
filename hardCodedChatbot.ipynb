{
 "cells": [
  {
   "cell_type": "code",
   "execution_count": 1,
   "id": "prepared-indianapolis",
   "metadata": {},
   "outputs": [],
   "source": [
    "# This is a chat bot that simulates a psychaitrist"
   ]
  },
  {
   "cell_type": "code",
   "execution_count": 14,
   "id": "specified-disposal",
   "metadata": {},
   "outputs": [],
   "source": [
    "# Import libraries\n",
    "from nltk.chat.util import Chat, reflections"
   ]
  },
  {
   "cell_type": "code",
   "execution_count": 16,
   "id": "fresh-smith",
   "metadata": {},
   "outputs": [],
   "source": [
    "pairs = [\n",
    "    ['my name is (.*)',['hello %1']],\n",
    "    ['what is your favourite sport?', ['My favourite sport is soccer']],\n",
    "    ['(hi|hello|hey|hola|holla|whatup)', ['hey there','hello','hello there','hi', 'hello, how are you?']]\n",
    "]"
   ]
  },
  {
   "cell_type": "code",
   "execution_count": 17,
   "id": "modified-bhutan",
   "metadata": {},
   "outputs": [],
   "source": [
    "dum_reflections = {'go':'gone', 'hello':'hey there'}"
   ]
  },
  {
   "cell_type": "code",
   "execution_count": null,
   "id": "centered-sound",
   "metadata": {},
   "outputs": [
    {
     "name": "stdin",
     "output_type": "stream",
     "text": [
      "> my name is sebi\n"
     ]
    },
    {
     "name": "stdout",
     "output_type": "stream",
     "text": [
      "hello sebi\n"
     ]
    },
    {
     "name": "stdin",
     "output_type": "stream",
     "text": [
      "> hello\n"
     ]
    },
    {
     "name": "stdout",
     "output_type": "stream",
     "text": [
      "hello, how are you?\n"
     ]
    },
    {
     "name": "stdin",
     "output_type": "stream",
     "text": [
      "> hi\n"
     ]
    },
    {
     "name": "stdout",
     "output_type": "stream",
     "text": [
      "hello\n"
     ]
    },
    {
     "name": "stdin",
     "output_type": "stream",
     "text": [
      "> whatup\n"
     ]
    },
    {
     "name": "stdout",
     "output_type": "stream",
     "text": [
      "hey there\n"
     ]
    }
   ],
   "source": [
    "chat = Chat(pairs, reflections)\n",
    "#chat._substitute('you are amazing')\n",
    "chat.converse()"
   ]
  },
  {
   "cell_type": "code",
   "execution_count": null,
   "id": "greater-honolulu",
   "metadata": {},
   "outputs": [],
   "source": []
  },
  {
   "cell_type": "code",
   "execution_count": null,
   "id": "enclosed-canvas",
   "metadata": {},
   "outputs": [],
   "source": []
  }
 ],
 "metadata": {
  "kernelspec": {
   "display_name": "Python 3",
   "language": "python",
   "name": "python3"
  },
  "language_info": {
   "codemirror_mode": {
    "name": "ipython",
    "version": 3
   },
   "file_extension": ".py",
   "mimetype": "text/x-python",
   "name": "python",
   "nbconvert_exporter": "python",
   "pygments_lexer": "ipython3",
   "version": "3.8.5"
  }
 },
 "nbformat": 4,
 "nbformat_minor": 5
}
